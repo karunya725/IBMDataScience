{
 "cells": [
  {
   "cell_type": "markdown",
   "id": "b81924e0",
   "metadata": {},
   "source": [
    "# Data Science Tools and Ecosystem"
   ]
  },
  {
   "cell_type": "markdown",
   "id": "b0a63075",
   "metadata": {},
   "source": [
    "In this notebook, Data Science Tools and Ecosystem are summarized."
   ]
  },
  {
   "cell_type": "markdown",
   "id": "7045e4c2",
   "metadata": {},
   "source": [
    "Some of the popular languages that Data Scientists use are:\n",
    "\n",
    "1. Python\n",
    "2. R Language\n",
    "3. SQL\n",
    "4. Java \n",
    "5. Scala\n",
    "\n",
    "Some of the commonly used libraries used by Data Scientists include:\n",
    "\n",
    "1. **Pandas**: offers tools for data cleaning, manipulation, and analysis\n",
    "2. **NumPy**: allows us to apply mathematical functions to arrays\n",
    "3. **Matplotlib**: popular for making customizable graphs and plots\n",
    "4. **Seaborn**: based on Matplotlib and generates heat maps, time series, and violin plots\n",
    "5. **Scikit-learn**: high-level library that simplifies the process of building machine learning models \n",
    "6. **Keras**: allows us to build standard deep learning models in a quick and simple manner\n",
    "7. **TensorFlow**: low-level framework used for large-scale production of deep learning models\n",
    "8. **Pytorch**: used for experimentation and makes it easy for researchers to test ideas\n",
    "\n",
    "*Note: The above libraries are Python libraries. Apache and R Language have other libraries as well.*\n",
    "\n",
    "|Data Science Tools|\n",
    "|-----|\n",
    "|Jupyter Notebook|\n",
    "|RStudio|\n",
    "|Apache Zeppelin|\n",
    "\n",
    "### Below are a few examples of evaluating arithmetic expressions in Python\n"
   ]
  },
  {
   "cell_type": "code",
   "execution_count": 2,
   "id": "6d3a3bb0",
   "metadata": {},
   "outputs": [
    {
     "data": {
      "text/plain": [
       "17"
      ]
     },
     "execution_count": 2,
     "metadata": {},
     "output_type": "execute_result"
    }
   ],
   "source": [
    "# This a simple arithmetic expression to mutiply then add integers\n",
    "(3*4)+5"
   ]
  },
  {
   "cell_type": "code",
   "execution_count": 3,
   "id": "10ec5ac1",
   "metadata": {},
   "outputs": [
    {
     "data": {
      "text/plain": [
       "3.3333333333333335"
      ]
     },
     "execution_count": 3,
     "metadata": {},
     "output_type": "execute_result"
    }
   ],
   "source": [
    "# This will convert 200 minutes to hours by diving by 60\n",
    "200/60"
   ]
  },
  {
   "cell_type": "markdown",
   "id": "0bf08978",
   "metadata": {},
   "source": [
    "**Objectives:**\n",
    "\n",
    "- List popular languages for Data Science\n",
    "- List commonly used libraries in Data Science\n",
    "- List Data Science tools\n",
    "- Examples of evaluating arithmetic expressions in Python\n",
    "\n",
    "## Author\n",
    "Karunya Narayanamurthy"
   ]
  },
  {
   "cell_type": "code",
   "execution_count": null,
   "id": "db3a24c0",
   "metadata": {},
   "outputs": [],
   "source": []
  }
 ],
 "metadata": {
  "kernelspec": {
   "display_name": "Python 3 (ipykernel)",
   "language": "python",
   "name": "python3"
  },
  "language_info": {
   "codemirror_mode": {
    "name": "ipython",
    "version": 3
   },
   "file_extension": ".py",
   "mimetype": "text/x-python",
   "name": "python",
   "nbconvert_exporter": "python",
   "pygments_lexer": "ipython3",
   "version": "3.7.1"
  }
 },
 "nbformat": 4,
 "nbformat_minor": 5
}
